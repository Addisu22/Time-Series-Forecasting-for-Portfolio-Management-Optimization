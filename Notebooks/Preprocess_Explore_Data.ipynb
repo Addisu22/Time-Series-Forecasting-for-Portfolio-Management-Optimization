{
 "cells": [
  {
   "cell_type": "markdown",
   "id": "0456cdd7",
   "metadata": {},
   "source": [
    "# Task 1: Preprocess and Explore the Data"
   ]
  },
  {
   "cell_type": "code",
   "execution_count": 1,
   "id": "648ffb2a",
   "metadata": {},
   "outputs": [],
   "source": [
    "import numpy as np\n",
    "import pandas as pd\n",
    "from scipy.stats import norm\n",
    "import matplotlib.pyplot as plt\n",
    "import seaborn as sns\n",
    "from scipy.stats import zscore\n",
    "from statsmodels.tsa.stattools import adfuller\n",
    "import sys\n",
    "import os\n",
    "sys.path.append(os.path.abspath(\"../Scripts\"))\n",
    "\n",
    "import warnings\n",
    "warnings.filterwarnings('ignore')"
   ]
  },
  {
   "cell_type": "code",
   "execution_count": 2,
   "id": "b34ffdf2",
   "metadata": {},
   "outputs": [],
   "source": [
    "sns.set(style=\"whitegrid\")\n",
    "plt.rcParams['figure.figsize'] = (12,6)\n",
    "tickers = ['TSLA', 'BND', 'SPY']\n",
    "start ='2015-07-01'\n",
    "end = '2025-07-31'"
   ]
  },
  {
   "cell_type": "code",
   "execution_count": 3,
   "id": "5374cc31",
   "metadata": {},
   "outputs": [],
   "source": [
    "from load_stock_data import *"
   ]
  },
  {
   "cell_type": "code",
   "execution_count": 4,
   "id": "1674773f",
   "metadata": {},
   "outputs": [
    {
     "name": "stderr",
     "output_type": "stream",
     "text": [
      "[*********************100%***********************]  1 of 1 completed\n",
      "[*********************100%***********************]  1 of 1 completed\n",
      "[*********************100%***********************]  1 of 1 completed"
     ]
    },
    {
     "name": "stdout",
     "output_type": "stream",
     "text": [
      "Downloading ['TSLA', 'BND', 'SPY'] from 2015-07-01 to 2025-07-31 ...\n"
     ]
    },
    {
     "name": "stderr",
     "output_type": "stream",
     "text": [
      "\n"
     ]
    },
    {
     "data": {
      "text/html": [
       "<div>\n",
       "<style scoped>\n",
       "    .dataframe tbody tr th:only-of-type {\n",
       "        vertical-align: middle;\n",
       "    }\n",
       "\n",
       "    .dataframe tbody tr th {\n",
       "        vertical-align: top;\n",
       "    }\n",
       "\n",
       "    .dataframe thead th {\n",
       "        text-align: right;\n",
       "    }\n",
       "</style>\n",
       "<table border=\"1\" class=\"dataframe\">\n",
       "  <thead>\n",
       "    <tr style=\"text-align: right;\">\n",
       "      <th></th>\n",
       "      <th>TSLA</th>\n",
       "      <th>BND</th>\n",
       "      <th>SPY</th>\n",
       "    </tr>\n",
       "    <tr>\n",
       "      <th>Date</th>\n",
       "      <th></th>\n",
       "      <th></th>\n",
       "      <th></th>\n",
       "    </tr>\n",
       "  </thead>\n",
       "  <tbody>\n",
       "    <tr>\n",
       "      <th>2015-07-01</th>\n",
       "      <td>17.943333</td>\n",
       "      <td>60.816776</td>\n",
       "      <td>174.917068</td>\n",
       "    </tr>\n",
       "    <tr>\n",
       "      <th>2015-07-02</th>\n",
       "      <td>18.667999</td>\n",
       "      <td>60.967072</td>\n",
       "      <td>174.756943</td>\n",
       "    </tr>\n",
       "    <tr>\n",
       "      <th>2015-07-06</th>\n",
       "      <td>18.648001</td>\n",
       "      <td>61.177578</td>\n",
       "      <td>174.259598</td>\n",
       "    </tr>\n",
       "    <tr>\n",
       "      <th>2015-07-07</th>\n",
       "      <td>17.858667</td>\n",
       "      <td>61.237713</td>\n",
       "      <td>175.355423</td>\n",
       "    </tr>\n",
       "    <tr>\n",
       "      <th>2015-07-08</th>\n",
       "      <td>16.997334</td>\n",
       "      <td>61.410568</td>\n",
       "      <td>172.413467</td>\n",
       "    </tr>\n",
       "  </tbody>\n",
       "</table>\n",
       "</div>"
      ],
      "text/plain": [
       "                 TSLA        BND         SPY\n",
       "Date                                        \n",
       "2015-07-01  17.943333  60.816776  174.917068\n",
       "2015-07-02  18.667999  60.967072  174.756943\n",
       "2015-07-06  18.648001  61.177578  174.259598\n",
       "2015-07-07  17.858667  61.237713  175.355423\n",
       "2015-07-08  16.997334  61.410568  172.413467"
      ]
     },
     "execution_count": 4,
     "metadata": {},
     "output_type": "execute_result"
    }
   ],
   "source": [
    "df = download_stock_data(tickers, start, end)\n",
    "print(f\"Downloading {tickers} from {start} to {end} ...\")\n",
    "df.head()"
   ]
  },
  {
   "cell_type": "code",
   "execution_count": 5,
   "id": "454baf93",
   "metadata": {},
   "outputs": [
    {
     "name": "stdout",
     "output_type": "stream",
     "text": [
      "Data types of each column:\n",
      "TSLA    float64\n",
      "BND     float64\n",
      "SPY     float64\n",
      "dtype: object\n",
      "\n",
      " Missing values per column:\n",
      "TSLA    0\n",
      "BND     0\n",
      "SPY     0\n",
      "dtype: int64\n",
      "\n",
      " Cleaned using 'linear' method.\n"
     ]
    },
    {
     "data": {
      "text/html": [
       "<div>\n",
       "<style scoped>\n",
       "    .dataframe tbody tr th:only-of-type {\n",
       "        vertical-align: middle;\n",
       "    }\n",
       "\n",
       "    .dataframe tbody tr th {\n",
       "        vertical-align: top;\n",
       "    }\n",
       "\n",
       "    .dataframe thead th {\n",
       "        text-align: right;\n",
       "    }\n",
       "</style>\n",
       "<table border=\"1\" class=\"dataframe\">\n",
       "  <thead>\n",
       "    <tr style=\"text-align: right;\">\n",
       "      <th></th>\n",
       "      <th>TSLA</th>\n",
       "      <th>BND</th>\n",
       "      <th>SPY</th>\n",
       "    </tr>\n",
       "    <tr>\n",
       "      <th>Date</th>\n",
       "      <th></th>\n",
       "      <th></th>\n",
       "      <th></th>\n",
       "    </tr>\n",
       "  </thead>\n",
       "  <tbody>\n",
       "    <tr>\n",
       "      <th>2015-07-01</th>\n",
       "      <td>17.943333</td>\n",
       "      <td>60.816776</td>\n",
       "      <td>174.917068</td>\n",
       "    </tr>\n",
       "    <tr>\n",
       "      <th>2015-07-02</th>\n",
       "      <td>18.667999</td>\n",
       "      <td>60.967072</td>\n",
       "      <td>174.756943</td>\n",
       "    </tr>\n",
       "    <tr>\n",
       "      <th>2015-07-06</th>\n",
       "      <td>18.648001</td>\n",
       "      <td>61.177578</td>\n",
       "      <td>174.259598</td>\n",
       "    </tr>\n",
       "    <tr>\n",
       "      <th>2015-07-07</th>\n",
       "      <td>17.858667</td>\n",
       "      <td>61.237713</td>\n",
       "      <td>175.355423</td>\n",
       "    </tr>\n",
       "    <tr>\n",
       "      <th>2015-07-08</th>\n",
       "      <td>16.997334</td>\n",
       "      <td>61.410568</td>\n",
       "      <td>172.413467</td>\n",
       "    </tr>\n",
       "  </tbody>\n",
       "</table>\n",
       "</div>"
      ],
      "text/plain": [
       "                 TSLA        BND         SPY\n",
       "Date                                        \n",
       "2015-07-01  17.943333  60.816776  174.917068\n",
       "2015-07-02  18.667999  60.967072  174.756943\n",
       "2015-07-06  18.648001  61.177578  174.259598\n",
       "2015-07-07  17.858667  61.237713  175.355423\n",
       "2015-07-08  16.997334  61.410568  172.413467"
      ]
     },
     "metadata": {},
     "output_type": "display_data"
    }
   ],
   "source": [
    "# Suppose df is your stock prices DataFrame\n",
    "clean_df = inspect_and_clean_df(df, method=\"linear\")\n",
    "display(clean_df.head())"
   ]
  },
  {
   "cell_type": "code",
   "execution_count": null,
   "id": "6d8d17ae",
   "metadata": {},
   "outputs": [],
   "source": [
    "print(\"\\nAfter forward fill:\")\n",
    "display(handle_missing_values(df, method=\"ffill\").head())\n",
    "\n",
    "print(\"\\nAfter filling missing with 0:\")\n",
    "display(handle_missing_values(df, method=\"zero\").head())\n",
    "\n",
    "print(\"\\nAfter linear interpolation:\")\n",
    "display(handle_missing_values(df, method=\"interpolate\").head())\n",
    "\n",
    "print(\"\\nAfter dropping rows with missing values:\")\n",
    "display(handle_missing_values(df, method=\"drop\").head())"
   ]
  },
  {
   "cell_type": "code",
   "execution_count": 6,
   "id": "37ba3567",
   "metadata": {},
   "outputs": [
    {
     "data": {
      "text/html": [
       "<div>\n",
       "<style scoped>\n",
       "    .dataframe tbody tr th:only-of-type {\n",
       "        vertical-align: middle;\n",
       "    }\n",
       "\n",
       "    .dataframe tbody tr th {\n",
       "        vertical-align: top;\n",
       "    }\n",
       "\n",
       "    .dataframe thead th {\n",
       "        text-align: right;\n",
       "    }\n",
       "</style>\n",
       "<table border=\"1\" class=\"dataframe\">\n",
       "  <thead>\n",
       "    <tr style=\"text-align: right;\">\n",
       "      <th></th>\n",
       "      <th>count</th>\n",
       "      <th>mean</th>\n",
       "      <th>std</th>\n",
       "      <th>min</th>\n",
       "      <th>25%</th>\n",
       "      <th>50%</th>\n",
       "      <th>75%</th>\n",
       "      <th>max</th>\n",
       "    </tr>\n",
       "  </thead>\n",
       "  <tbody>\n",
       "    <tr>\n",
       "      <th>TSLA</th>\n",
       "      <td>2535.0</td>\n",
       "      <td>131.963002</td>\n",
       "      <td>120.914904</td>\n",
       "      <td>9.578000</td>\n",
       "      <td>18.967667</td>\n",
       "      <td>94.571335</td>\n",
       "      <td>236.761665</td>\n",
       "      <td>479.859985</td>\n",
       "    </tr>\n",
       "    <tr>\n",
       "      <th>BND</th>\n",
       "      <td>2535.0</td>\n",
       "      <td>68.469189</td>\n",
       "      <td>4.554601</td>\n",
       "      <td>60.779156</td>\n",
       "      <td>64.654358</td>\n",
       "      <td>67.604866</td>\n",
       "      <td>71.891136</td>\n",
       "      <td>77.318245</td>\n",
       "    </tr>\n",
       "    <tr>\n",
       "      <th>SPY</th>\n",
       "      <td>2535.0</td>\n",
       "      <td>334.193733</td>\n",
       "      <td>126.427704</td>\n",
       "      <td>155.869781</td>\n",
       "      <td>230.083191</td>\n",
       "      <td>305.264435</td>\n",
       "      <td>420.350510</td>\n",
       "      <td>637.099976</td>\n",
       "    </tr>\n",
       "  </tbody>\n",
       "</table>\n",
       "</div>"
      ],
      "text/plain": [
       "       count        mean         std         min         25%         50%  \\\n",
       "TSLA  2535.0  131.963002  120.914904    9.578000   18.967667   94.571335   \n",
       "BND   2535.0   68.469189    4.554601   60.779156   64.654358   67.604866   \n",
       "SPY   2535.0  334.193733  126.427704  155.869781  230.083191  305.264435   \n",
       "\n",
       "             75%         max  \n",
       "TSLA  236.761665  479.859985  \n",
       "BND    71.891136   77.318245  \n",
       "SPY   420.350510  637.099976  "
      ]
     },
     "execution_count": 6,
     "metadata": {},
     "output_type": "execute_result"
    }
   ],
   "source": [
    "df.describe().T"
   ]
  },
  {
   "cell_type": "code",
   "execution_count": null,
   "id": "4d560dd4",
   "metadata": {},
   "outputs": [],
   "source": [
    "\n",
    "# Example usage\n",
    "df = clean_and_align(df)"
   ]
  },
  {
   "cell_type": "code",
   "execution_count": null,
   "id": "0c8e8aa1",
   "metadata": {},
   "outputs": [],
   "source": [
    "# Example usage:\n",
    "returns_df = compute_returns(df)\n",
    "print(\"Computed Returns:\")\n",
    "display(returns_df.head())"
   ]
  },
  {
   "cell_type": "code",
   "execution_count": null,
   "id": "8633fdcb",
   "metadata": {},
   "outputs": [],
   "source": [
    "# Example usage:\n",
    "summary_stats = calculate_annualized_stats(returns)\n",
    "display(summary_stats)"
   ]
  },
  {
   "cell_type": "code",
   "execution_count": null,
   "id": "879210ce",
   "metadata": {},
   "outputs": [],
   "source": [
    "# Example usage\n",
    "plot_prices_and_returns(df, returns)"
   ]
  },
  {
   "cell_type": "code",
   "execution_count": null,
   "id": "7fb7d2a7",
   "metadata": {},
   "outputs": [],
   "source": [
    "\n",
    "# Example usage:\n",
    "plot_rolling_volatility(log_returns, window=30)"
   ]
  },
  {
   "cell_type": "code",
   "execution_count": null,
   "id": "dd1d08a4",
   "metadata": {},
   "outputs": [],
   "source": [
    "# Example usage\n",
    "outlier_days = detect_outlier_days(log_returns, threshold=3)\n",
    "display(outlier_days.head())"
   ]
  }
 ],
 "metadata": {
  "kernelspec": {
   "display_name": "Python 3",
   "language": "python",
   "name": "python3"
  },
  "language_info": {
   "codemirror_mode": {
    "name": "ipython",
    "version": 3
   },
   "file_extension": ".py",
   "mimetype": "text/x-python",
   "name": "python",
   "nbconvert_exporter": "python",
   "pygments_lexer": "ipython3",
   "version": "3.11.0"
  }
 },
 "nbformat": 4,
 "nbformat_minor": 5
}
